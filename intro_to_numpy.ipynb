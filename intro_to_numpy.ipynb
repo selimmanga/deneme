{
  "metadata": {
    "language_info": {
      "codemirror_mode": {
        "name": "ipython",
        "version": 3
      },
      "file_extension": ".py",
      "mimetype": "text/x-python",
      "name": "python",
      "nbconvert_exporter": "python",
      "pygments_lexer": "ipython3",
      "version": "3.7.2"
    },
    "orig_nbformat": 2,
    "kernelspec": {
      "name": "python37264bitp37conda40bdd08730654a3489938532f8989fa4",
      "display_name": "Python 3.7.2 64-bit ('p37': conda)"
    },
    "metadata": {
      "interpreter": {
        "hash": "d79b3e3554a34d50671fe30433af20c7dd282a7d243d5461b63d99ed0af8bffb"
      }
    },
    "colab": {
      "provenance": []
    }
  },
  "nbformat": 4,
  "nbformat_minor": 0,
  "cells": [
    {
      "source": [
        "<h3>NumPy nedir?</h3>\n",
        "Diziler üzerinde matematiksel ve mantıksal işlem yapmamıza olanak sağlayan kütüphanedir.<br>\"Numerical Python\" ın kısaltmasıdır."
      ],
      "cell_type": "markdown",
      "metadata": {
        "id": "qrbAYfd3LVVx"
      }
    },
    {
      "source": [
        "<h3>Neden NumPy?</h3>\n",
        "<ol>\n",
        "<li>Pek çok python kütüphanesi ile uyumlu.</li>\n",
        "<li>Normal python listelerine göre çok daha hızlı.</li>\n",
        "<li>Açık kaynak kodlu</li>\n"
      ],
      "cell_type": "markdown",
      "metadata": {
        "id": "AIiR4Qg4LVVy"
      }
    },
    {
      "source": [
        "<h3>Nasıl Yüklenir?</h3>\n",
        "<h4><strong>pip install numpy</strong><h4> yada <h4><strong>conda install numpy</strong></h4>"
      ],
      "cell_type": "markdown",
      "metadata": {
        "id": "EKaooi0TLVVz"
      }
    },
    {
      "source": [
        "<h3>Kodumuzda kullanmak için ne yapmalıyız?</h3>"
      ],
      "cell_type": "markdown",
      "metadata": {
        "id": "fXAnWyAKLVVz"
      }
    },
    {
      "cell_type": "code",
      "execution_count": null,
      "metadata": {
        "id": "m495Q-8NLVVz"
      },
      "outputs": [],
      "source": [
        "import numpy as np"
      ]
    },
    {
      "source": [
        "<h3>ndarray Nesnesi</h3>\n",
        "<ul>\n",
        "<li>N-boyutlu dizi yapısıdır.</li>\n",
        "<li>Aynı türden verileri saklamak ve manipule etmek için kullanılır.</li>\n",
        "<li> Verilere indeks yoluyla ulaşılır. İndeks değeri 0'dan başlar.\n",
        "</ul>\n"
      ],
      "cell_type": "markdown",
      "metadata": {
        "id": "P8tZvZxwLVVz"
      }
    },
    {
      "source": [
        "<h3>0 boyutlu dizi (Scalar)<h3>"
      ],
      "cell_type": "markdown",
      "metadata": {
        "id": "M-KrlR00LVV0"
      }
    },
    {
      "cell_type": "code",
      "execution_count": null,
      "metadata": {
        "colab": {
          "base_uri": "https://localhost:8080/"
        },
        "id": "vQ5OcYc6LVV0",
        "outputId": "d2dede2e-d69d-4f7d-f20c-a11abe6eaeb5"
      },
      "outputs": [
        {
          "output_type": "stream",
          "name": "stdout",
          "text": [
            "6\n",
            "<class 'numpy.ndarray'>\n"
          ]
        }
      ],
      "source": [
        "a = np.array(6)\n",
        "print(a)\n",
        "print(type(a))"
      ]
    },
    {
      "source": [
        "<h3>1 boyutlu dizi<h3>"
      ],
      "cell_type": "markdown",
      "metadata": {
        "id": "5LgJLZdTLVV1"
      }
    },
    {
      "cell_type": "code",
      "execution_count": null,
      "metadata": {
        "colab": {
          "base_uri": "https://localhost:8080/"
        },
        "id": "bcX9TfuULVV1",
        "outputId": "a5179b3f-ce10-45cc-f9bb-973d5b2797fc"
      },
      "outputs": [
        {
          "output_type": "stream",
          "name": "stdout",
          "text": [
            "a\n",
            " [1 2 3 4 5 6]\n",
            "b\n",
            " [1 2 3 4 5 6]\n",
            "c\n",
            " [1 2 3 4 5 6]\n",
            "<class 'numpy.ndarray'>\n",
            "ndim\n",
            " 1\n",
            "shape\n",
            " (6,)\n",
            "size\n",
            " 6\n",
            "dtype\n",
            " int64\n"
          ]
        }
      ],
      "source": [
        "a = np.array([1, 2, 3, 4, 5, 6])                        # 1 boyutlu dizi\n",
        "b = np.arange(1, 7)\n",
        "c = np.linspace(1, 6, num=6, dtype=int)\n",
        "print(\"a\\n\", a)\n",
        "print(\"b\\n\",b)\n",
        "print(\"c\\n\",c)\n",
        "print(type(a))   # a değişkeninin türü\n",
        "print(\"ndim\\n\",a.ndim)    # dizinin boyut sayısı\n",
        "print(\"shape\\n\",a.shape)   # dizinin şekli\n",
        "print(\"size\\n\",a.size)    # dizideki eleman sayısı\n",
        "print(\"dtype\\n\",a.dtype)   # dizideki değerlerin türü\n"
      ]
    },
    {
      "source": [
        "<h3>1 Boyutlu dizi değerlerine erişim</h3>"
      ],
      "cell_type": "markdown",
      "metadata": {
        "id": "HDyeKAr4LVV1"
      }
    },
    {
      "cell_type": "code",
      "execution_count": null,
      "metadata": {
        "colab": {
          "base_uri": "https://localhost:8080/"
        },
        "id": "n3kMc8DkLVV1",
        "outputId": "d784aa3b-bded-4568-c42d-95223698da5c"
      },
      "outputs": [
        {
          "output_type": "stream",
          "name": "stdout",
          "text": [
            "ilk deger\n",
            " 1\n",
            "ikinci deger\n",
            " 2\n",
            "son değer\n",
            " 6\n",
            "son değer 2\n",
            " 6\n",
            "sondan 2. değer\n",
            " 5\n",
            "çift indeksteki değerler\n",
            " [1 3 5]\n"
          ]
        }
      ],
      "source": [
        "ilk_deger = a[0]\n",
        "ikinci_deger = a[1]\n",
        "son_deger = a[5]\n",
        "son_deger_yontem2 = a[-1]\n",
        "sondan_ikinci_deger = a[-2]\n",
        "ilk_uc_deger = a[0:3]\n",
        "cift_index = a[0::2]\n",
        "print(\"ilk deger\\n\",ilk_deger)\n",
        "print(\"ikinci deger\\n\",ikinci_deger)\n",
        "print(\"son değer\\n\",son_deger)\n",
        "print(\"son değer 2\\n\",son_deger_yontem2)\n",
        "print(\"sondan 2. değer\\n\",sondan_ikinci_deger)\n",
        "print(\"çift indeksteki değerler\\n\",cift_index)"
      ]
    },
    {
      "source": [
        "<h3>2 boyutlu dizi<h3>"
      ],
      "cell_type": "markdown",
      "metadata": {
        "id": "WtaKrjPDLVV2"
      }
    },
    {
      "cell_type": "code",
      "execution_count": null,
      "metadata": {
        "colab": {
          "base_uri": "https://localhost:8080/"
        },
        "id": "UMJ3mZocLVV2",
        "outputId": "b3f3828b-c25d-4de2-aea6-eba5ecb6395b"
      },
      "outputs": [
        {
          "output_type": "stream",
          "name": "stdout",
          "text": [
            "x\n",
            " [[3 5 7]\n",
            " [6 0 1]\n",
            " [6 7 4]]\n",
            "a\n",
            " [[1 2 3]\n",
            " [4 5 6]]\n",
            "b\n",
            " [[1 2 3]\n",
            " [4 5 6]]\n",
            "birler\n",
            " [[1. 1. 1. 1.]\n",
            " [1. 1. 1. 1.]\n",
            " [1. 1. 1. 1.]]\n",
            "sıfırlar\n",
            " [[0 0]\n",
            " [0 0]]\n",
            "birim matris\n",
            " [[1. 0. 0. 0. 0.]\n",
            " [0. 1. 0. 0. 0.]\n",
            " [0. 0. 1. 0. 0.]\n",
            " [0. 0. 0. 1. 0.]\n",
            " [0. 0. 0. 0. 1.]]\n",
            "aynı değerle doldurma\n",
            " [[9 9 9 9 9]\n",
            " [9 9 9 9 9]\n",
            " [9 9 9 9 9]\n",
            " [9 9 9 9 9]\n",
            " [9 9 9 9 9]]\n",
            "boş değerler\n",
            " [[7 7 7 7 7 7]\n",
            " [7 7 7 7 7 7]\n",
            " [7 7 7 7 7 7]]\n",
            "doldurulan değerler\n",
            " [[6 6 6 6 6 6]\n",
            " [6 6 6 6 6 6]\n",
            " [6 6 6 6 6 6]]\n"
          ]
        }
      ],
      "source": [
        "x = np.array([[3,5,7],\n",
        "              [6,0,1],\n",
        "              [6,7,4]])  # 2 boyutlu dizi\n",
        "print(\"x\\n\", x)\n",
        "\n",
        "a = np.array([[1,2,3], [4,5,6]])  # 2 boyutlu dizi\n",
        "b = np.arange(1,7).reshape(2,3)   # tek boyuttan 2 boyuta\n",
        "print(\"a\\n\",a)\n",
        "print(\"b\\n\",b)\n",
        "\n",
        "# tüm değereri 1 olan matris\n",
        "birler = np.ones(shape=(3,4), dtype=float)\n",
        "#tüm değerleri 0 olan matris\n",
        "sifirlar = np.zeros(shape=(2,2), dtype=int)\n",
        "# 5 e 5 lik birim matris I\n",
        "birim_matris = np.eye(5)\n",
        "# matrisi belli bir değerle doldurma\n",
        "ayni_degerler = np.full(shape=(5,5), fill_value=9)\n",
        "print(\"birler\\n\",birler)\n",
        "print(\"sıfırlar\\n\",sifirlar)\n",
        "print(\"birim matris\\n\",birim_matris)\n",
        "print(\"aynı değerle doldurma\\n\",ayni_degerler)\n",
        "\n",
        "bos_degerler = np.empty((3,6), dtype=np.uint8)\n",
        "print(\"boş değerler\\n\",bos_degerler)\n",
        "bos_degerler.fill(6)\n",
        "print(\"doldurulan değerler\\n\",bos_degerler)\n"
      ]
    },
    {
      "source": [
        "<h3> 2 boyutlu dizilerde verilere erişim</h3>"
      ],
      "cell_type": "markdown",
      "metadata": {
        "id": "99AeXypBLVV2"
      }
    },
    {
      "cell_type": "code",
      "execution_count": null,
      "metadata": {
        "colab": {
          "base_uri": "https://localhost:8080/"
        },
        "id": "93BhwMQuLVV2",
        "outputId": "db81a9d0-c458-410e-be56-3ed4ce040278"
      },
      "outputs": [
        {
          "output_type": "stream",
          "name": "stdout",
          "text": [
            "1.satır 1.sütun\n",
            " 1\n",
            "2.satır 3.sütun\n",
            " 6\n"
          ]
        }
      ],
      "source": [
        "a = np.array([[1,2,3], [4,5,6]])  # 2 boyutlu dizi\n",
        "print(\"1.satır 1.sütun\\n\",a[0,0])   # matriste 1.satır 1.sütundaki değer\n",
        "print(\"2.satır 3.sütun\\n\",a[1,2])   # matriste 2.satır 3.sütundaki değer"
      ]
    },
    {
      "source": [
        "<h3>Dilimleme</h3>"
      ],
      "cell_type": "markdown",
      "metadata": {
        "id": "wxvgReKFLVV3"
      }
    },
    {
      "cell_type": "code",
      "execution_count": null,
      "metadata": {
        "colab": {
          "base_uri": "https://localhost:8080/"
        },
        "id": "FNnKuhHqLVV3",
        "outputId": "10490a81-6dea-46ef-b65b-0c2d56e8a0f0"
      },
      "outputs": [
        {
          "output_type": "stream",
          "name": "stdout",
          "text": [
            "a\n",
            " [[ 1  2  3  4]\n",
            " [ 4  5  6  7]\n",
            " [ 7  8  9 10]]\n",
            "[[ 3  4]\n",
            " [ 6  7]\n",
            " [ 9 10]]\n",
            "[[ 3  4]\n",
            " [ 6  7]\n",
            " [ 9 10]]\n",
            "[[5 6]\n",
            " [8 9]]\n",
            "1.satır\n",
            " [1 2 3 4]\n",
            "1.sütun\n",
            " [1 4 7]\n",
            "ilk 2 satır\n",
            " [[1 2 3 4]\n",
            " [4 5 6 7]]\n",
            "ilk 2 sütun\n",
            " [[1 2]\n",
            " [4 5]\n",
            " [7 8]]\n",
            "2.ve 3. satır, 3.ve 4.sütun \n",
            " [[ 6  7]\n",
            " [ 9 10]]\n"
          ]
        }
      ],
      "source": [
        "a = np.array([[1,2,3,4], [4,5,6,7], [7,8,9,10]])  # 2 boyutlu dizi\n",
        "print(\"a\\n\", a)\n",
        "# son 2 sütundaki degerler\n",
        "print(a[:, 2:4])\n",
        "print(a[:, -2:])\n",
        "print(a[1:, 1:3])\n",
        "print(\"1.satır\\n\", a[0, :])       # 1.satırdaki tüm değerler   a[0] ile aynı sonuç\n",
        "print(\"1.sütun\\n\", a[:, 0])       # 1.sütundaki tüm değerler\n",
        "print(\"ilk 2 satır\\n\", a[0:2, :]) # 1. ve 2.satırdaki tüm değerler\n",
        "print(\"ilk 2 sütun\\n\", a[:, 0:2]) # 1. ve 2.sütundaki tüm değerler\n",
        "# 2.satırdan 3.satıra, 2.sütundan 3.sütuna tüm değerler\n",
        "print(\"2.ve 3. satır, 3.ve 4.sütun \\n\", a[1:3, 2:4])\n"
      ]
    },
    {
      "source": [
        "<h3> Rassal Sayılar</h3>"
      ],
      "cell_type": "markdown",
      "metadata": {
        "id": "KPlWehszLVV3"
      }
    },
    {
      "cell_type": "code",
      "execution_count": null,
      "metadata": {
        "colab": {
          "base_uri": "https://localhost:8080/"
        },
        "id": "SBWcAOZRLVV3",
        "outputId": "6c746d44-10f5-4b92-e85e-fd3c07dd2488"
      },
      "outputs": [
        {
          "output_type": "stream",
          "name": "stdout",
          "text": [
            "a\n",
            " [[3 2 2 4]\n",
            " [2 5 4 3]\n",
            " [4 4 3 5]]\n",
            "b\n",
            " [ 0.86940631  1.55014003  0.27589222  1.07167643 -0.3730618 ]\n",
            "c\n",
            " [[30.71861355 27.279988   30.16399066]\n",
            " [27.834377   30.78778387 31.80185624]\n",
            " [28.5134531  31.39502333 27.4699423 ]]\n"
          ]
        }
      ],
      "source": [
        "# 2 ile 6 arasında 12 tane sayı üret. 6 dahil değil.\n",
        "a = np.random.randint(low=2, high=6, size=(3,4))\n",
        "# normal dağılıma uyan 5 tane sayı üret.\n",
        "b = np.random.randn(5)\n",
        "# ortalaması 30, standart sapması 2 olan sayılar üret\n",
        "c = np.random.normal(30, 2, size=(3,3)).astype(float)\n",
        "print(\"a\\n\", a)\n",
        "print(\"b\\n\", b)\n",
        "print(\"c\\n\", c)"
      ]
    },
    {
      "source": [
        "<h3> Aritmetik İşlemler</h3>"
      ],
      "cell_type": "markdown",
      "metadata": {
        "id": "9ESxYh8YLVV3"
      }
    },
    {
      "cell_type": "code",
      "execution_count": null,
      "metadata": {
        "colab": {
          "base_uri": "https://localhost:8080/"
        },
        "id": "izbcics7LVV4",
        "outputId": "95296c69-6fc4-401d-d199-fa22a7fe8f56"
      },
      "outputs": [
        {
          "output_type": "stream",
          "name": "stdout",
          "text": [
            "x\n",
            " [[1. 0. 0.]\n",
            " [0. 1. 0.]\n",
            " [0. 0. 1.]]\n",
            "y\n",
            " [[1 2 3]\n",
            " [4 5 6]\n",
            " [7 8 9]]\n",
            "x+y\n",
            " [[ 2.  2.  3.]\n",
            " [ 4.  6.  6.]\n",
            " [ 7.  8. 10.]]\n",
            "x*y\n",
            " [[1. 0. 0.]\n",
            " [0. 5. 0.]\n",
            " [0. 0. 9.]]\n",
            "x-y\n",
            " [[ 0. -2. -3.]\n",
            " [-4. -4. -6.]\n",
            " [-7. -8. -8.]]\n",
            "x/y\n",
            " [[1.         0.         0.        ]\n",
            " [0.         0.2        0.        ]\n",
            " [0.         0.         0.11111111]]\n",
            "x%y\n",
            " [[0. 0. 0.]\n",
            " [0. 1. 0.]\n",
            " [0. 0. 1.]]\n",
            "x**y\n",
            " [[1. 0. 0.]\n",
            " [0. 1. 0.]\n",
            " [0. 0. 1.]]\n"
          ]
        }
      ],
      "source": [
        "x = np.eye(3)\n",
        "y = np.arange(1,10).reshape(3,3)\n",
        "print(\"x\\n\", x)\n",
        "print(\"y\\n\", y)\n",
        "print(\"x+y\\n\", x+y)\n",
        "print(\"x*y\\n\", x*y)      # karşılıklı eleemanları çarp\n",
        "print(\"x-y\\n\", x-y)\n",
        "print(\"x/y\\n\", x/y)\n",
        "print(\"x%y\\n\", x%y)      # mod\n",
        "print(\"x**y\\n\", x**y)     # üs"
      ]
    },
    {
      "source": [
        "<h3>Lineer Cebir İşlemleri</h3>"
      ],
      "cell_type": "markdown",
      "metadata": {
        "id": "bWYNFyOxLVV4"
      }
    },
    {
      "cell_type": "code",
      "execution_count": null,
      "metadata": {
        "colab": {
          "base_uri": "https://localhost:8080/"
        },
        "id": "FYvNeLdjLVV4",
        "outputId": "6fa01503-7143-42aa-9ff8-7ddbb098fe20"
      },
      "outputs": [
        {
          "output_type": "stream",
          "name": "stdout",
          "text": [
            "y-5\n",
            " [0 1 2 3 4 5]\n",
            "x*2\n",
            " [  2   4   6   8  10 120]\n",
            "x**2\n",
            " [   1    4    9   16   25 3600]\n",
            "sin(x)\n",
            " [ 0.84147098  0.90929743  0.14112001 -0.7568025  -0.95892427 -0.30481062]\n",
            "e^x\n",
            " [2.71828183e+00 7.38905610e+00 2.00855369e+01 5.45981500e+01\n",
            " 1.48413159e+02 1.14200739e+26]\n",
            "x.y\n",
            " 715\n",
            "x\n",
            " [[ 5  6]\n",
            " [ 7  8]\n",
            " [ 9 10]]\n",
            "y\n",
            " [[ 5  6  7]\n",
            " [ 8  9 10]]\n",
            "yT [[ 5  8]\n",
            " [ 6  9]\n",
            " [ 7 10]]\n",
            "x matmul y \n",
            " [[ 73  84  95]\n",
            " [ 99 114 129]\n",
            " [125 144 163]]\n"
          ]
        }
      ],
      "source": [
        "x = np.array([1,2,3,4,5,60])\n",
        "y = np.array([5,6,7,8,9,10])\n",
        "print(\"y-5\\n\", y-5)               # tüm değerlerden 5 çıkar\n",
        "print(\"x*2\\n\", x*2)               # tüm değerleri 2 ile çarp\n",
        "print(\"x**2\\n\", x**2)              # tüm değerlerin karesini al\n",
        "print(\"sin(x)\\n\", np.sin(x))         # tüm değerlerin sinüsünü al\n",
        "print(\"e^x\\n\", np.exp(x))         # tüm değerlerin e^x den geçir\n",
        "\n",
        "z = np.dot(x,y)          # iç çarpım (dot product)\n",
        "print(\"x.y\\n\", z)\n",
        "x = y.reshape(3,2)       # 3x2 lik hale getir\n",
        "y = y.reshape(2,3)       # 2x3 lik hale getir\n",
        "print(\"x\\n\", x)\n",
        "print(\"y\\n\", y)\n",
        "print(\"yT\", y.T)               # transpoz işlemi\n",
        "print(\"x matmul y \\n\", np.matmul(x,y))    # matris çarpımı\n"
      ]
    },
    {
      "source": [
        "<h3> Toplam Fonksiyonları</h3>"
      ],
      "cell_type": "markdown",
      "metadata": {
        "id": "wiX5QuQTLVV4"
      }
    },
    {
      "cell_type": "code",
      "execution_count": null,
      "metadata": {
        "colab": {
          "base_uri": "https://localhost:8080/"
        },
        "id": "Q3YqDWKbLVV5",
        "outputId": "53498b31-b1a5-43d9-f58d-5e25e4279fbe"
      },
      "outputs": [
        {
          "output_type": "stream",
          "name": "stdout",
          "text": [
            "[1 2 1 4 5]\n",
            "toplam\n",
            " 13\n",
            "ortalama\n",
            " 2.6\n",
            "max\n",
            " 5\n",
            "maksimumun indeksi\n",
            " 4\n",
            "median\n",
            " 2.0\n",
            "eşsiz değerler\n",
            " [1 2 4 5]\n"
          ]
        }
      ],
      "source": [
        "x = np.arange(1,6)\n",
        "x[2] = 1            # 3.degeri 1 yap\n",
        "print(x)\n",
        "print(\"toplam\\n\", np.sum(x))\n",
        "print(\"ortalama\\n\", np.mean(x))\n",
        "print(\"max\\n\", np.max(x))\n",
        "print(\"maksimumun indeksi\\n\", np.argmax(x))\n",
        "print(\"median\\n\", np.median(x))\n",
        "print(\"eşsiz değerler\\n\", np.unique(x))\n"
      ]
    },
    {
      "source": [
        "<h3>Belli bir eksende Toplam Fonksiyonları</h3>"
      ],
      "cell_type": "markdown",
      "metadata": {
        "id": "x5tADHDQLVV5"
      }
    },
    {
      "cell_type": "code",
      "execution_count": null,
      "metadata": {
        "colab": {
          "base_uri": "https://localhost:8080/"
        },
        "id": "dKnwMi5PLVV5",
        "outputId": "aa7acd22-94ec-4aa2-e07f-a8c7f5f9f00e"
      },
      "outputs": [
        {
          "output_type": "stream",
          "name": "stdout",
          "text": [
            "a\n",
            " [[1 2 3]\n",
            " [4 5 6]]\n",
            "axis=0 toplam\n",
            " [5 7 9]\n",
            "axis=1 toplam\n",
            " [ 6 15]\n"
          ]
        }
      ],
      "source": [
        "a = np.arange(1,7).reshape(2,3)\n",
        "print(\"a\\n\", a)\n",
        "x = np.sum(a, axis=0)    # satırları üst üste koy topla\n",
        "y = np.sum(a, axis=1)    # her satırdaki tüm değerleri topla\n",
        "print(\"axis=0 toplam\\n\", x)\n",
        "print(\"axis=1 toplam\\n\", y)"
      ]
    },
    {
      "source": [
        "<h3>Mantıksal Operatörler</h3>"
      ],
      "cell_type": "markdown",
      "metadata": {
        "id": "WJ0i-Rv9LVV5"
      }
    },
    {
      "cell_type": "code",
      "execution_count": null,
      "metadata": {
        "colab": {
          "base_uri": "https://localhost:8080/"
        },
        "id": "1zEd5mxdLVV5",
        "outputId": "bd245594-c4a3-4dcb-daec-c954ddf015ba"
      },
      "outputs": [
        {
          "output_type": "stream",
          "name": "stdout",
          "text": [
            "a\n",
            " [[1 2 3]\n",
            " [4 5 6]]\n",
            "a>5\n",
            " [[False False False]\n",
            " [False False  True]]\n",
            "a[a>5]\n",
            " [6]\n",
            "a%2== 0\n",
            " [[False  True False]\n",
            " [ True False  True]]\n",
            "where a>2\n",
            " (array([0, 1, 1, 1]), array([2, 0, 1, 2]))\n",
            "all(a)\n",
            " True\n",
            "all a>1\n",
            " False\n",
            "any(a)\n",
            " True\n",
            "any sıfırlar\n",
            " False\n",
            "any a>8\n",
            " False\n"
          ]
        }
      ],
      "source": [
        "a = np.arange(1,7).reshape(2,3)\n",
        "print(\"a\\n\",         a)\n",
        "print(\"a>5\\n\",       a>5)  # 5 ten büyük olup olmama\n",
        "print(\"a[a>5]\\n\",    a[a>5])           # 5 ten büyük olan değerleri getir\n",
        "print(\"a%2== 0\\n\",   a%2 ==0)         # çift sayı mı\n",
        "print(\"where a>2\\n\", np.where(a>2)) # hangi indeksteki değerler 2 den büyük\n",
        "print(\"all(a)\\n\",    np.all(a))        # tüm değerler 0 dan ve False tan farklı mı\n",
        "print(\"all a>1\\n\",   np.all(a>1))     # tüm değerler 1 den büyük mi ?\n",
        "print(\"any(a)\\n\",    np.any(a))     # 0 dan ve False dan farklı değer var mı ?\n",
        "sifirlar = np.zeros((3,3))\n",
        "print(\"any sıfırlar\\n\", np.any(sifirlar))     # 0 dan ve False dan farklı değer var mı ?\n",
        "print(\"any a>8\\n\",      np.any(a>8))          # 8 den büyük bir değer var mı ?"
      ]
    },
    {
      "source": [
        "<h3>İki diziyi birleştirme</h3>"
      ],
      "cell_type": "markdown",
      "metadata": {
        "id": "TAqCAbZ4LVV5"
      }
    },
    {
      "cell_type": "code",
      "execution_count": null,
      "metadata": {
        "colab": {
          "base_uri": "https://localhost:8080/"
        },
        "id": "zTzUuwGHLVV6",
        "outputId": "7aa96fa6-b2d3-4a15-e5bb-1ba08de35a16"
      },
      "outputs": [
        {
          "output_type": "stream",
          "name": "stdout",
          "text": [
            "a\n",
            " [[1 2 3]\n",
            " [4 5 6]]\n",
            "b\n",
            " [[6 4 0]\n",
            " [6 1 6]]\n",
            "üst üste koy\n",
            " [[1 2 3]\n",
            " [4 5 6]\n",
            " [6 4 0]\n",
            " [6 1 6]]\n",
            "yan yana koy\n",
            " [[1 2 3 6 4 0]\n",
            " [4 5 6 6 1 6]]\n"
          ]
        }
      ],
      "source": [
        "a = np.arange(1,7).reshape(2,3)\n",
        "b = np.random.randint(7, size=(2,3))\n",
        "print(\"a\\n\", a)\n",
        "print(\"b\\n\", b)\n",
        "print(\"üst üste koy\\n\", np.vstack([a,b]))\n",
        "print(\"yan yana koy\\n\", np.hstack([a,b]))"
      ]
    },
    {
      "source": [
        "<h3>Dosya İşlemleri</h3>"
      ],
      "cell_type": "markdown",
      "metadata": {
        "id": "H7YixzSxLVV6"
      }
    },
    {
      "cell_type": "code",
      "execution_count": null,
      "metadata": {
        "colab": {
          "base_uri": "https://localhost:8080/"
        },
        "id": "jGjWcpRtLVV6",
        "outputId": "c951bef9-6f1f-46b1-f3f2-148526c1f73a"
      },
      "outputs": [
        {
          "output_type": "stream",
          "name": "stdout",
          "text": [
            "Mounted at /content/drive\n"
          ]
        },
        {
          "output_type": "execute_result",
          "data": {
            "text/plain": [
              "array([[ 4.,  5.,  6.,  1.],\n",
              "       [ 2.,  3.,  2.,  3.],\n",
              "       [ 6., -5., -7., -1.]])"
            ]
          },
          "metadata": {},
          "execution_count": 15
        }
      ],
      "source": [
        "from google.colab import drive\n",
        "drive.mount('/content/drive')\n",
        "\n",
        "dosya = \"/content/drive/My Drive/myo_yapay_zeka/sayisal_veri.csv\"\n",
        "veri = np.loadtxt(dosya, delimiter=\",\", skiprows=0)\n",
        "veri"
      ]
    },
    {
      "source": [],
      "cell_type": "markdown",
      "metadata": {
        "id": "v3IfK0kHLVV6"
      }
    },
    {
      "cell_type": "code",
      "execution_count": null,
      "metadata": {
        "colab": {
          "base_uri": "https://localhost:8080/"
        },
        "id": "rkk9aUFrLVV6",
        "outputId": "7e99d3d1-2a57-4fa6-872d-b8129368646c"
      },
      "outputs": [
        {
          "output_type": "stream",
          "name": "stdout",
          "text": [
            "[4.         1.         0.33333333 1.        ]\n"
          ]
        }
      ],
      "source": [
        "ortalama = np.mean(veri, axis=0)\n",
        "print(ortalama)\n",
        "maks = np.max(veri, axis=0)\n",
        "veri = (veri - ortalama)"
      ]
    },
    {
      "cell_type": "code",
      "execution_count": null,
      "metadata": {
        "colab": {
          "base_uri": "https://localhost:8080/"
        },
        "id": "Y2xbgI4jLVV6",
        "outputId": "8e645334-c32b-4342-a76a-f72d1adb41f4"
      },
      "outputs": [
        {
          "output_type": "execute_result",
          "data": {
            "text/plain": [
              "array([[ 0.        ,  0.8       ,  0.94444444,  0.        ],\n",
              "       [-0.33333333,  0.4       ,  0.27777778,  0.66666667],\n",
              "       [ 0.33333333, -1.2       , -1.22222222, -0.66666667]])"
            ]
          },
          "metadata": {},
          "execution_count": 17
        }
      ],
      "source": [
        "veri = veri/ maks\n",
        "veri"
      ]
    },
    {
      "cell_type": "code",
      "execution_count": null,
      "metadata": {
        "id": "N2tYEbSqLVV6"
      },
      "outputs": [],
      "source": [
        "np.savetxt('islenmis_sayisal_veri.csv', veri, delimiter=',')"
      ]
    },
    {
      "cell_type": "code",
      "execution_count": null,
      "metadata": {
        "id": "xynGvcK7LVV7"
      },
      "outputs": [],
      "source": []
    }
  ]
}